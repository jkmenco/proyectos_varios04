{
 "cells": [
  {
   "cell_type": "code",
   "execution_count": 11,
   "metadata": {},
   "outputs": [
    {
     "name": "stdout",
     "output_type": "stream",
     "text": [
      "=($H$5=0)\n",
      "=($H$6=0)\n",
      "=($H$7=0)\n",
      "=($H$8=0)\n",
      "=($H$9=0)\n"
     ]
    }
   ],
   "source": [
    "'''\n",
    "=($H$6=10)\n",
    "\n",
    "\n",
    "'''\n",
    "code1 = \"=($H$\"\n",
    "code2 = \"=0)\"\n",
    "\n",
    "     \n",
    "celd = 5\n",
    "\n",
    "while celd<10:\n",
    "    print(f\"{code1}{celd}{code2}\")\n",
    "    celd += 1\n",
    "\n"
   ]
  }
 ],
 "metadata": {
  "kernelspec": {
   "display_name": "Python 3",
   "language": "python",
   "name": "python3"
  },
  "language_info": {
   "codemirror_mode": {
    "name": "ipython",
    "version": 3
   },
   "file_extension": ".py",
   "mimetype": "text/x-python",
   "name": "python",
   "nbconvert_exporter": "python",
   "pygments_lexer": "ipython3",
   "version": "3.11.0"
  },
  "orig_nbformat": 4
 },
 "nbformat": 4,
 "nbformat_minor": 2
}
